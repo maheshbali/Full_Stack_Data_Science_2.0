{
  "nbformat": 4,
  "nbformat_minor": 0,
  "metadata": {
    "colab": {
      "provenance": []
    },
    "kernelspec": {
      "name": "python3",
      "display_name": "Python 3"
    },
    "language_info": {
      "name": "python"
    }
  },
  "cells": [
    {
      "cell_type": "markdown",
      "source": [
        "1. Write a Python program to print \"Hello Python\"?"
      ],
      "metadata": {
        "id": "ZJPxoVuW31HU"
      }
    },
    {
      "cell_type": "code",
      "source": [
        "print('Hello Python')"
      ],
      "metadata": {
        "colab": {
          "base_uri": "https://localhost:8080/"
        },
        "id": "jLi9dTMB2GrM",
        "outputId": "01635cf6-09a8-488b-b834-e83af18dd342"
      },
      "execution_count": 1,
      "outputs": [
        {
          "output_type": "stream",
          "name": "stdout",
          "text": [
            "Hello Python\n"
          ]
        }
      ]
    },
    {
      "cell_type": "markdown",
      "source": [
        "2. Write a Python program to do arithmetical operations addition and division?"
      ],
      "metadata": {
        "id": "0060OLmu39Ki"
      }
    },
    {
      "cell_type": "code",
      "source": [
        "def total(a,b):\n",
        "  return a+b"
      ],
      "metadata": {
        "id": "U1AwRpVo2TtO"
      },
      "execution_count": 2,
      "outputs": []
    },
    {
      "cell_type": "code",
      "source": [
        "def divide(a,b):\n",
        "  return a/b"
      ],
      "metadata": {
        "id": "Ngugugln2dFF"
      },
      "execution_count": 3,
      "outputs": []
    },
    {
      "cell_type": "markdown",
      "source": [
        "3. Write a python program to find area of a triangle"
      ],
      "metadata": {
        "id": "5eFi1ywp2iy1"
      }
    },
    {
      "cell_type": "code",
      "source": [
        "def area_of_triangle(base, height):\n",
        "  return 0.5 * base * height"
      ],
      "metadata": {
        "id": "-Yqxigj52tA7"
      },
      "execution_count": 4,
      "outputs": []
    },
    {
      "cell_type": "markdown",
      "source": [
        "4. Write a Python program to swap two variables?"
      ],
      "metadata": {
        "id": "uvQrhSgn4ICe"
      }
    },
    {
      "cell_type": "code",
      "source": [
        "def swap(a,b):\n",
        "  a,b = b,a\n",
        "  return a,b"
      ],
      "metadata": {
        "id": "bGYVnzw23E5_"
      },
      "execution_count": 5,
      "outputs": []
    },
    {
      "cell_type": "markdown",
      "source": [
        "5. Write a Python program to generate a random number?"
      ],
      "metadata": {
        "id": "yZRHWTq14RRy"
      }
    },
    {
      "cell_type": "code",
      "source": [
        "def random():\n",
        "  import random\n",
        "  num = random.random()\n",
        "  return num"
      ],
      "metadata": {
        "id": "hnt_dcg-3QPb"
      },
      "execution_count": 6,
      "outputs": []
    }
  ]
}