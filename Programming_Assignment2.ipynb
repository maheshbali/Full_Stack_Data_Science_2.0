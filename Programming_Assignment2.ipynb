{
  "nbformat": 4,
  "nbformat_minor": 0,
  "metadata": {
    "colab": {
      "provenance": []
    },
    "kernelspec": {
      "name": "python3",
      "display_name": "Python 3"
    },
    "language_info": {
      "name": "python"
    }
  },
  "cells": [
    {
      "cell_type": "markdown",
      "source": [
        "1. Write a python program to convert kilometers to miles?"
      ],
      "metadata": {
        "id": "QfTGstff43UC"
      }
    },
    {
      "cell_type": "code",
      "source": [
        "def km_to_miles(km):\n",
        "  return km * 0.621371"
      ],
      "metadata": {
        "id": "s_8kWRkj49lf"
      },
      "execution_count": 1,
      "outputs": []
    },
    {
      "cell_type": "markdown",
      "source": [
        "2. Write a program to convert celcius to fahrenheit"
      ],
      "metadata": {
        "id": "N0CfF7LX5XEh"
      }
    },
    {
      "cell_type": "code",
      "source": [
        "def celcius_to_fahrenheit(celcius):\n",
        "  return celcius * 32"
      ],
      "metadata": {
        "id": "UK_TPQ9z5gz8"
      },
      "execution_count": 2,
      "outputs": []
    },
    {
      "cell_type": "markdown",
      "source": [
        "3. Write a python program to display calendar"
      ],
      "metadata": {
        "id": "OpYMRI-K5sk2"
      }
    },
    {
      "cell_type": "code",
      "source": [
        "def calendar(year):\n",
        "  # importing the calendar module\n",
        "  import calendar\n",
        "  # printing the calendar\n",
        "  return calendar.calendar(year)"
      ],
      "metadata": {
        "id": "628_obDH6IeC"
      },
      "execution_count": 3,
      "outputs": []
    },
    {
      "cell_type": "markdown",
      "source": [
        "4. Write a python program to solve a quadratic equation"
      ],
      "metadata": {
        "id": "mxa_9ScJ6g9x"
      }
    },
    {
      "cell_type": "code",
      "source": [
        "def quadratic_eqn(a,b,c):\n",
        "  # import complex math module\n",
        "  import cmath\n",
        "\n",
        "  # calculate the discriminant\n",
        "  d = (b**2) - (4*a*c)\n",
        "\n",
        "  # find two solutions\n",
        "  sol1 = (-b-cmath.sqrt(d))/(2*a)\n",
        "  sol2 = (-b+cmath.sqrt(d))/(2*a)\n",
        "\n",
        "  print('The solution are {0} and {1}'.format(sol1,sol2))"
      ],
      "metadata": {
        "id": "to9MAyw06pxL"
      },
      "execution_count": 7,
      "outputs": []
    },
    {
      "cell_type": "markdown",
      "source": [
        "5. Write a python program to swap 2 variables without using a temp variable"
      ],
      "metadata": {
        "id": "WpRcjp8Z7U3f"
      }
    },
    {
      "cell_type": "code",
      "source": [
        "def swap(a,b):\n",
        "  a,b = b,a\n",
        "  return a,b"
      ],
      "metadata": {
        "id": "hzu8iETE7dcA"
      },
      "execution_count": 6,
      "outputs": []
    }
  ]
}