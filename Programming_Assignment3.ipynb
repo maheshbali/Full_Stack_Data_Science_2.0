{
  "nbformat": 4,
  "nbformat_minor": 0,
  "metadata": {
    "colab": {
      "provenance": []
    },
    "kernelspec": {
      "name": "python3",
      "display_name": "Python 3"
    },
    "language_info": {
      "name": "python"
    }
  },
  "cells": [
    {
      "cell_type": "markdown",
      "source": [
        "\n",
        "1. Write a Python program to check if a number is positive, negative or zero"
      ],
      "metadata": {
        "id": "VM7KctDwJjdm"
      }
    },
    {
      "cell_type": "code",
      "source": [
        "def pos_neg_zero(n):\n",
        "  if n > 0:\n",
        "    return 'Positive'\n",
        "  if n < 0:\n",
        "    return 'Negative'\n",
        "  else:\n",
        "    return 'Zero'"
      ],
      "metadata": {
        "id": "TIwImZn6JxAu"
      },
      "execution_count": null,
      "outputs": []
    },
    {
      "cell_type": "markdown",
      "source": [
        "2. Write a program to check if a number is odd or even"
      ],
      "metadata": {
        "id": "kM0XNj5dKJ7a"
      }
    },
    {
      "cell_type": "code",
      "source": [
        "def odd_even(n):\n",
        "  if n % 2 == 0:\n",
        "    return 'even'\n",
        "  else:\n",
        "    return 'odd'"
      ],
      "metadata": {
        "id": "EzclKeCpKP_i"
      },
      "execution_count": null,
      "outputs": []
    },
    {
      "cell_type": "markdown",
      "source": [
        "3. Write a program to check leap year"
      ],
      "metadata": {
        "id": "vNvsPXoFKoVE"
      }
    },
    {
      "cell_type": "code",
      "source": [
        "def leap_year(n):\n",
        "  if n%4 == 0:\n",
        "    return 'Leap Year'\n",
        "  else:\n",
        "    return 'Not a Leap Year'"
      ],
      "metadata": {
        "id": "KkPmPVsdKtF1"
      },
      "execution_count": null,
      "outputs": []
    },
    {
      "cell_type": "markdown",
      "source": [
        "4. Write a program to check Prime Number"
      ],
      "metadata": {
        "id": "lcLmXYqTK8yB"
      }
    },
    {
      "cell_type": "code",
      "source": [
        "def isPrime(n):\n",
        "    import math\n",
        "    # Corner case\n",
        "    if (n <= 1):\n",
        "        return False\n",
        " \n",
        "    # Check from 2 to sqrt(n)\n",
        "    for i in range(2, int(math.sqrt(n))+1):\n",
        "        if (n % i == 0):\n",
        "            return False\n",
        " \n",
        "    return True"
      ],
      "metadata": {
        "id": "H6d4ucUGLGRm"
      },
      "execution_count": null,
      "outputs": []
    },
    {
      "cell_type": "markdown",
      "source": [
        "5.\tWrite a Python Program to Print all Prime Numbers in an Interval of 1-10000?"
      ],
      "metadata": {
        "id": "nsvHclzsNAfK"
      }
    },
    {
      "cell_type": "code",
      "source": [
        "def prime_range(lower, upper):\n",
        "  for num in range(lower, upper + 1):\n",
        "    # all prime numbers are greater than 1\n",
        "    if num > 1:\n",
        "        for i in range(2, num):\n",
        "            if (num % i) == 0:\n",
        "                break\n",
        "        else:\n",
        "            print(num)"
      ],
      "metadata": {
        "id": "ahbqXbQ3NAy1"
      },
      "execution_count": null,
      "outputs": []
    }
  ]
}