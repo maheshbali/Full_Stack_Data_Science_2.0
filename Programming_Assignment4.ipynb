{
  "nbformat": 4,
  "nbformat_minor": 0,
  "metadata": {
    "colab": {
      "provenance": []
    },
    "kernelspec": {
      "name": "python3",
      "display_name": "Python 3"
    },
    "language_info": {
      "name": "python"
    }
  },
  "cells": [
    {
      "cell_type": "markdown",
      "source": [
        "1.\tWrite a Python Program to Find the Factorial of a Number?"
      ],
      "metadata": {
        "id": "CP_Fgo3yNg7b"
      }
    },
    {
      "cell_type": "code",
      "source": [
        "def factorial(n):\n",
        "  return 1 if (n==1 or n==0) else n * factorial(n - 1)\n"
      ],
      "metadata": {
        "id": "0n7JYF3pNnUk"
      },
      "execution_count": null,
      "outputs": []
    },
    {
      "cell_type": "markdown",
      "source": [
        "2.\tWrite a Python Program to Display the multiplication Table?"
      ],
      "metadata": {
        "id": "CwkAGN7dNnqa"
      }
    },
    {
      "cell_type": "code",
      "source": [
        "def table(num):\n",
        "  for i in range(1, 11):\n",
        "    print(num, 'x', i, '=', num*i)"
      ],
      "metadata": {
        "id": "fZZlH2iRNn91"
      },
      "execution_count": null,
      "outputs": []
    },
    {
      "cell_type": "markdown",
      "source": [
        "3.\tWrite a Python Program to Print the Fibonacci sequence?"
      ],
      "metadata": {
        "id": "PxTfXm4QNoUw"
      }
    },
    {
      "cell_type": "code",
      "source": [
        "def fibonacci(n):\n",
        "    a = 0\n",
        "    b = 1\n",
        "     \n",
        "    # Check is n is less\n",
        "    # than 0\n",
        "    if n < 0:\n",
        "        print(\"Incorrect input\")\n",
        "         \n",
        "    # Check is n is equal\n",
        "    # to 0\n",
        "    elif n == 0:\n",
        "        return 0\n",
        "       \n",
        "    # Check if n is equal to 1\n",
        "    elif n == 1:\n",
        "        return b\n",
        "    else:\n",
        "        for i in range(1, n):\n",
        "            c = a + b\n",
        "            a = b\n",
        "            b = c\n",
        "        return b"
      ],
      "metadata": {
        "id": "usy4-J1eNols"
      },
      "execution_count": null,
      "outputs": []
    },
    {
      "cell_type": "markdown",
      "source": [
        "4.\tWrite a Python Program to Check Armstrong Number?"
      ],
      "metadata": {
        "id": "YGnjxJA8Nozt"
      }
    },
    {
      "cell_type": "code",
      "source": [
        "def armstrong(number):\n",
        "  digits = len(str(number))\n",
        "  temp = number\n",
        "  add_sum = 0\n",
        "  while temp != 0:\n",
        "      # get the last digit in the number\n",
        "      k = temp % 10\n",
        "      # find k^digits\n",
        "      add_sum += k**digits\n",
        "      # floor division\n",
        "      # which updates the number with the second last digit as the last digit\n",
        "      temp = temp//10\n",
        "  if add_sum == number:\n",
        "      print('Given number is an Armstrong Number')\n",
        "  else:\n",
        "      print('Given number is not a Armstrong Number')"
      ],
      "metadata": {
        "id": "glWdCtpnNpD1"
      },
      "execution_count": null,
      "outputs": []
    },
    {
      "cell_type": "markdown",
      "source": [
        "5.\tWrite a Python Program to Find Armstrong Number in an Interval?"
      ],
      "metadata": {
        "id": "125Nj2EPNpOV"
      }
    },
    {
      "cell_type": "code",
      "source": [
        "def armstrong_range(lower, upper):\n",
        "  for num in range(lower, upper + 1):\n",
        "   # order of number\n",
        "   order = len(str(num))\n",
        "    \n",
        "   # initialize sum\n",
        "   sum = 0\n",
        "   temp = num\n",
        "   while temp > 0:\n",
        "       digit = temp % 10\n",
        "       sum += digit ** order\n",
        "       temp //= 10\n",
        "   if num == sum:\n",
        "       print(num)"
      ],
      "metadata": {
        "id": "ypcS1328NpYN"
      },
      "execution_count": null,
      "outputs": []
    },
    {
      "cell_type": "markdown",
      "source": [
        "6.\tWrite a Python Program to Find the Sum of Natural Numbers?"
      ],
      "metadata": {
        "id": "Vp6VZoCuNph3"
      }
    },
    {
      "cell_type": "code",
      "source": [
        "def sum_n_natural(n):\n",
        "  return n*(n+1)/2"
      ],
      "metadata": {
        "id": "eJ9jreSmNppn"
      },
      "execution_count": null,
      "outputs": []
    }
  ]
}